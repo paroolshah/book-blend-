{
 "cells": [
  {
   "cell_type": "code",
   "execution_count": null,
   "metadata": {},
   "outputs": [],
   "source": [
    "import numpy as np\n",
    "import pandas as pd"
   ]
  },
  {
   "cell_type": "code",
   "execution_count": null,
   "metadata": {},
   "outputs": [],
   "source": [
    "books = pd.read_csv(r'C:\\USB\\BOOKS.csv')\n",
    "Ratings = pd.read_csv(r'C:\\USB\\RATING.csv')"
   ]
  },
  {
   "cell_type": "code",
   "execution_count": null,
   "metadata": {},
   "outputs": [],
   "source": [
    "books.head(5)"
   ]
  },
  {
   "cell_type": "code",
   "execution_count": null,
   "metadata": {},
   "outputs": [],
   "source": [
    "Ratings.head(5)\n",
    "            "
   ]
  },
  {
   "cell_type": "code",
   "execution_count": null,
   "metadata": {},
   "outputs": [],
   "source": [
    "print(books.shape)\n",
    "print(Ratings.shape)"
   ]
  },
  {
   "cell_type": "code",
   "execution_count": null,
   "metadata": {},
   "outputs": [],
   "source": [
    "books.isnull().sum()"
   ]
  },
  {
   "cell_type": "code",
   "execution_count": null,
   "metadata": {},
   "outputs": [],
   "source": [
    "Ratings.isnull().sum()"
   ]
  },
  {
   "cell_type": "code",
   "execution_count": null,
   "metadata": {},
   "outputs": [],
   "source": [
    "books.duplicated().sum()"
   ]
  },
  {
   "cell_type": "code",
   "execution_count": null,
   "metadata": {},
   "outputs": [],
   "source": [
    "Ratings.duplicated().sum()"
   ]
  },
  {
   "cell_type": "code",
   "execution_count": null,
   "metadata": {},
   "outputs": [],
   "source": [
    "books[['ratingsCount']]=books[['ratingsCount']].fillna(0)\n",
    "books.head(5)\n"
   ]
  },
  {
   "cell_type": "markdown",
   "metadata": {},
   "source": [
    "books=books.dropna(subset=['description', 'categories'], how='any')\n",
    "books.head()"
   ]
  },
  {
   "cell_type": "code",
   "execution_count": null,
   "metadata": {},
   "outputs": [],
   "source": [
    "books= books.fillna('-')\n",
    "books.head(5)"
   ]
  },
  {
   "cell_type": "code",
   "execution_count": null,
   "metadata": {},
   "outputs": [],
   "source": [
    "print(books.shape)"
   ]
  },
  {
   "cell_type": "code",
   "execution_count": null,
   "metadata": {},
   "outputs": [],
   "source": [
    "Ratings.head()"
   ]
  },
  {
   "cell_type": "markdown",
   "metadata": {},
   "source": [
    "populatrity based recomendation\n"
   ]
  },
  {
   "cell_type": "code",
   "execution_count": null,
   "metadata": {},
   "outputs": [],
   "source": [
    "ratings_with_books=pd.merge(books, Ratings, on='Title')\n",
    "ratings_with_books.head()\n"
   ]
  },
  {
   "cell_type": "code",
   "execution_count": null,
   "metadata": {},
   "outputs": [],
   "source": [
    "num_rating_df=ratings_with_books.groupby('Title')['review/score'].count().reset_index()\n",
    "num_rating_df.rename(columns={\"review/score\":\"num_rating\"},inplace=True)\n",
    "num_rating_df"
   ]
  },
  {
   "cell_type": "code",
   "execution_count": null,
   "metadata": {},
   "outputs": [],
   "source": [
    "avg_rating_df=ratings_with_books.groupby('Title')['review/score'].mean().reset_index()\n",
    "avg_rating_df.rename(columns={\"review/score\":\"avg_rating\"},inplace=True)\n",
    "avg_rating_df"
   ]
  },
  {
   "cell_type": "code",
   "execution_count": null,
   "metadata": {},
   "outputs": [],
   "source": [
    "popularity_df=pd.merge(num_rating_df,avg_rating_df,on='Title').drop_duplicates('Title')\n",
    "popularity_df"
   ]
  },
  {
   "cell_type": "code",
   "execution_count": null,
   "metadata": {},
   "outputs": [],
   "source": [
    "popularity_df=popularity_df[popularity_df['num_rating']>=1500]\n",
    "print(popularity_df.shape)"
   ]
  },
  {
   "cell_type": "code",
   "execution_count": null,
   "metadata": {},
   "outputs": [],
   "source": [
    "popularity_df=popularity_df.sort_values(by='avg_rating',ascending=False).head(50)\n",
    "popularity_df"
   ]
  },
  {
   "cell_type": "code",
   "execution_count": null,
   "metadata": {},
   "outputs": [],
   "source": [
    "popularity_df=popularity_df.merge(books,on='Title').drop_duplicates('Title')\n",
    "popularity_df"
   ]
  },
  {
   "cell_type": "code",
   "execution_count": null,
   "metadata": {},
   "outputs": [],
   "source": [
    "popularity_df=popularity_df[['Title','authors','description','image','num_rating','avg_rating','publishedDate','publisher','categories',]]\n",
    "popularity_df"
   ]
  },
  {
   "cell_type": "markdown",
   "metadata": {},
   "source": [
    "gwenere based popularity  recommendation"
   ]
  },
  {
   "cell_type": "code",
   "execution_count": null,
   "metadata": {},
   "outputs": [],
   "source": [
    "geners_df=pd.merge(num_rating_df,avg_rating_df,on='Title').drop_duplicates('Title')\n",
    "geners_df=geners_df[geners_df['num_rating']>=100]\n",
    "geners_df=geners_df.sort_values(by='avg_rating',ascending=False)\n",
    "geners_df=geners_df.merge(books,on='Title').drop_duplicates('Title')\n",
    "geners_df"
   ]
  },
  {
   "cell_type": "code",
   "execution_count": null,
   "metadata": {},
   "outputs": [],
   "source": [
    "geners_df\n",
    "print(popularity_df['categories'].unique())\n"
   ]
  },
  {
   "cell_type": "code",
   "execution_count": null,
   "metadata": {},
   "outputs": [],
   "source": [
    "\n",
    "desired_categories = ['AReproductive health'] \n",
    "selected_books = pd.DataFrame(columns=geners_df.columns)\n",
    "\n",
    "for category in desired_categories:\n",
    "    category_rows = geners_df[geners_df['categories'].str.contains(category, case=False)]\n",
    "    selected_category_books = category_rows.head(6)\n",
    "    selected_books = pd.concat([selected_books, selected_category_books])\n",
    "\n",
    "selected_books[['Title',  'description','categories']]"
   ]
  },
  {
   "cell_type": "markdown",
   "metadata": {},
   "source": [
    "content and collarativie filtering"
   ]
  },
  {
   "cell_type": "code",
   "execution_count": null,
   "metadata": {},
   "outputs": [],
   "source": [
    "from sklearn.feature_extraction.text import TfidfVectorizer\n",
    "from sklearn.metrics.pairwise import cosine_similarity\n",
    "from sklearn.neighbors import NearestNeighbors"
   ]
  },
  {
   "cell_type": "code",
   "execution_count": null,
   "metadata": {},
   "outputs": [],
   "source": [
    "from scipy.sparse import hstack\n"
   ]
  },
  {
   "cell_type": "code",
   "execution_count": null,
   "metadata": {},
   "outputs": [],
   "source": [
    "tfidf_vectorizer = TfidfVectorizer(stop_words='english')\n",
    "books['categories'] = books['categories'].fillna('')\n",
    "books['authors'] = books['authors'].fillna('')\n",
    "tfidf_matrix_categories = tfidf_vectorizer.fit_transform(books['categories'])\n",
    "tfidf_matrix_authors = tfidf_vectorizer.fit_transform(books['authors'])\n",
    "\n",
    "\n",
    "\n",
    "tfidf_matrix_combined = hstack((tfidf_matrix_categories, tfidf_matrix_authors))"
   ]
  },
  {
   "cell_type": "code",
   "execution_count": null,
   "metadata": {},
   "outputs": [],
   "source": [
    "\n",
    "\n",
    "user_votes_count = Ratings.groupby('User_id').count()['review/score']\n",
    "active_users = user_votes_count[user_votes_count > 100].index\n",
    "\n",
    "\n",
    "filtered_ratings = Ratings[Ratings['User_id'].isin(active_users)]\n",
    "\n",
    "\n",
    "book_ratings_count = filtered_ratings.groupby('Title')['review/score'].count()\n",
    "popular_books = book_ratings_count[book_ratings_count >= 25].index\n",
    "\n",
    "\n",
    "final_ratings = filtered_ratings[filtered_ratings['Title'].isin(popular_books)]\n",
    "\n",
    "\n",
    "pt= final_ratings.pivot_table(index='Title', columns='User_id', values='review/score')\n",
    "\n",
    "\n",
    "pt"
   ]
  },
  {
   "cell_type": "code",
   "execution_count": null,
   "metadata": {},
   "outputs": [],
   "source": [
    "pt.fillna(0,inplace=True)\n",
    "pt"
   ]
  },
  {
   "cell_type": "code",
   "execution_count": null,
   "metadata": {},
   "outputs": [],
   "source": [
    "knn_model = NearestNeighbors(metric='cosine', algorithm='brute')\n",
    "knn_model.fit(pt.values)"
   ]
  },
  {
   "cell_type": "code",
   "execution_count": null,
   "metadata": {},
   "outputs": [],
   "source": [
    "def get_book_info(book_title):\n",
    "    book_info = books[books['Title'] == book_title].iloc[0]\n",
    "    return {\n",
    "        'Title': book_info['Title'],\n",
    "        'Categories': book_info['categories'],\n",
    "        'Description': book_info['description'],\n",
    "        'Image_URL': book_info['image']\n",
    "    }"
   ]
  },
  {
   "cell_type": "code",
   "execution_count": null,
   "metadata": {},
   "outputs": [],
   "source": [
    "def hybrid_recommendations(book_title, num_recommendations=7):\n",
    "  \n",
    "    book_idx = books[books['Title'] == book_title].index[0]\n",
    "    content_similarities = cosine_similarity(tfidf_matrix_combined[book_idx],tfidf_matrix_combined ).flatten()\n",
    "    content_related_books_indices = content_similarities.argsort()[:-num_recommendations-1:-1]\n",
    "    content_recommendations = [get_book_info(books.iloc[idx]['Title']) for idx in content_related_books_indices]\n",
    "\n",
    "    knn_distances, knn_indices = knn_model.kneighbors(pt.loc[[book_title]], n_neighbors=num_recommendations+1)\n",
    "    collaborative_recommendations = [get_book_info(pt.index[idx]) for idx in knn_indices[0][1:]]\n",
    "\n",
    "    hybrid_recommendations = list(set([book['Title'] for book in content_recommendations + collaborative_recommendations]))\n",
    "\n",
    "    return [get_book_info(book) for book in hybrid_recommendations[:num_recommendations]]\n"
   ]
  },
  {
   "cell_type": "code",
   "execution_count": null,
   "metadata": {},
   "outputs": [],
   "source": [
    "book_title = '1st to Die: A Novel'\n",
    "recommendations = hybrid_recommendations(book_title)\n",
    "print(\"Hybrid Recommendations for\", book_title, \":\")\n",
    "for i, book in enumerate(recommendations):\n",
    "    print(f\"{i+1}. {book['Title']} - {book['Categories']} - {book['Description']} - {book['Image_URL']}\")\n"
   ]
  }
 ],
 "metadata": {
  "kernelspec": {
   "display_name": "base",
   "language": "python",
   "name": "python3"
  },
  "language_info": {
   "codemirror_mode": {
    "name": "ipython",
    "version": 3
   },
   "file_extension": ".py",
   "mimetype": "text/x-python",
   "name": "python",
   "nbconvert_exporter": "python",
   "pygments_lexer": "ipython3",
   "version": "3.11.9"
  }
 },
 "nbformat": 4,
 "nbformat_minor": 2
}
